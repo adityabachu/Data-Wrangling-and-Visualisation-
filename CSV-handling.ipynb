{
  "cells": [
    {
      "cell_type": "code",
      "execution_count": null,
      "id": "7f1504d4",
      "metadata": {
        "id": "7f1504d4"
      },
      "outputs": [],
      "source": [
        "import pandas as pd\n",
        "import numpy as np"
      ]
    },
    {
      "cell_type": "markdown",
      "id": "7d6ea923",
      "metadata": {
        "id": "7d6ea923"
      },
      "source": [
        "DATA SHEET1 is a csv file created in excel and saved with ',' as delimete"
      ]
    },
    {
      "cell_type": "code",
      "execution_count": null,
      "id": "2a7588ff",
      "metadata": {
        "id": "2a7588ff"
      },
      "outputs": [],
      "source": [
        "df = pd.read_csv(r\"C:\\Users\\varun\\OneDrive\\Desktop\\abhi\\DATA - Sheet1.csv\")"
      ]
    },
    {
      "cell_type": "code",
      "execution_count": null,
      "id": "4067a2ad",
      "metadata": {
        "id": "4067a2ad",
        "outputId": "6d80863c-3d3a-4698-eb41-5c4a2b69358a"
      },
      "outputs": [
        {
          "data": {
            "text/html": [
              "<div>\n",
              "<style scoped>\n",
              "    .dataframe tbody tr th:only-of-type {\n",
              "        vertical-align: middle;\n",
              "    }\n",
              "\n",
              "    .dataframe tbody tr th {\n",
              "        vertical-align: top;\n",
              "    }\n",
              "\n",
              "    .dataframe thead th {\n",
              "        text-align: right;\n",
              "    }\n",
              "</style>\n",
              "<table border=\"1\" class=\"dataframe\">\n",
              "  <thead>\n",
              "    <tr style=\"text-align: right;\">\n",
              "      <th></th>\n",
              "      <th>NAME</th>\n",
              "      <th>ROLL NO</th>\n",
              "      <th>MAIL ID</th>\n",
              "      <th>BRANCH</th>\n",
              "      <th>MARKS</th>\n",
              "    </tr>\n",
              "  </thead>\n",
              "  <tbody>\n",
              "    <tr>\n",
              "      <th>0</th>\n",
              "      <td>B ADITYA</td>\n",
              "      <td>20EG107104</td>\n",
              "      <td>20eg107104@anurag.edu.in</td>\n",
              "      <td>AIML</td>\n",
              "      <td>67</td>\n",
              "    </tr>\n",
              "    <tr>\n",
              "      <th>1</th>\n",
              "      <td>D R DINESH KUMAR</td>\n",
              "      <td>20EG507101</td>\n",
              "      <td>20eg507101@anurag.edu.in</td>\n",
              "      <td>AIML</td>\n",
              "      <td>78</td>\n",
              "    </tr>\n",
              "    <tr>\n",
              "      <th>2</th>\n",
              "      <td>SUJEETH REDDY</td>\n",
              "      <td>20EG107145</td>\n",
              "      <td>20eg107145@anurag.edu.in</td>\n",
              "      <td>AIML</td>\n",
              "      <td>75</td>\n",
              "    </tr>\n",
              "    <tr>\n",
              "      <th>3</th>\n",
              "      <td>NAGARJUN</td>\n",
              "      <td>20EG107133</td>\n",
              "      <td>20eg107133@anurag.edu.in</td>\n",
              "      <td>AIML</td>\n",
              "      <td>98</td>\n",
              "    </tr>\n",
              "    <tr>\n",
              "      <th>4</th>\n",
              "      <td>DHEERAJ</td>\n",
              "      <td>20EG107150</td>\n",
              "      <td>20eg107150@anurag.edu.in</td>\n",
              "      <td>AIML</td>\n",
              "      <td>87</td>\n",
              "    </tr>\n",
              "  </tbody>\n",
              "</table>\n",
              "</div>"
            ],
            "text/plain": [
              "              NAME     ROLL NO                    MAIL ID BRANCH  MARKS\n",
              "0          B ADITYA  20EG107104  20eg107104@anurag.edu.in   AIML     67\n",
              "1  D R DINESH KUMAR  20EG507101  20eg507101@anurag.edu.in   AIML     78\n",
              "2     SUJEETH REDDY  20EG107145  20eg107145@anurag.edu.in   AIML     75\n",
              "3          NAGARJUN  20EG107133  20eg107133@anurag.edu.in   AIML     98\n",
              "4           DHEERAJ  20EG107150  20eg107150@anurag.edu.in   AIML     87"
            ]
          },
          "execution_count": 10,
          "metadata": {},
          "output_type": "execute_result"
        }
      ],
      "source": [
        "pd.DataFrame(df)"
      ]
    },
    {
      "cell_type": "code",
      "execution_count": null,
      "id": "8b03347b",
      "metadata": {
        "id": "8b03347b"
      },
      "outputs": [],
      "source": [
        "df.to_csv(\"DATA\", sep = ';')"
      ]
    },
    {
      "cell_type": "markdown",
      "id": "ebecc96f",
      "metadata": {
        "id": "ebecc96f"
      },
      "source": [
        "Here we changed the delimeter of the file from ',' to ';'"
      ]
    },
    {
      "cell_type": "code",
      "execution_count": null,
      "id": "ef10a2ac",
      "metadata": {
        "id": "ef10a2ac",
        "outputId": "b3024b12-bc24-446e-83da-e23b9b0212eb"
      },
      "outputs": [
        {
          "data": {
            "text/html": [
              "<div>\n",
              "<style scoped>\n",
              "    .dataframe tbody tr th:only-of-type {\n",
              "        vertical-align: middle;\n",
              "    }\n",
              "\n",
              "    .dataframe tbody tr th {\n",
              "        vertical-align: top;\n",
              "    }\n",
              "\n",
              "    .dataframe thead th {\n",
              "        text-align: right;\n",
              "    }\n",
              "</style>\n",
              "<table border=\"1\" class=\"dataframe\">\n",
              "  <thead>\n",
              "    <tr style=\"text-align: right;\">\n",
              "      <th></th>\n",
              "      <th>;NAME ;ROLL NO ;MAIL ID;BRANCH;MARKS</th>\n",
              "    </tr>\n",
              "  </thead>\n",
              "  <tbody>\n",
              "    <tr>\n",
              "      <th>0</th>\n",
              "      <td>0;B ADITYA;20EG107104;20eg107104@anurag.edu.in...</td>\n",
              "    </tr>\n",
              "    <tr>\n",
              "      <th>1</th>\n",
              "      <td>1;D R DINESH KUMAR;20EG507101;20eg507101@anura...</td>\n",
              "    </tr>\n",
              "    <tr>\n",
              "      <th>2</th>\n",
              "      <td>2;SUJEETH REDDY;20EG107145;20eg107145@anurag.e...</td>\n",
              "    </tr>\n",
              "    <tr>\n",
              "      <th>3</th>\n",
              "      <td>3;NAGARJUN;20EG107133;20eg107133@anurag.edu.in...</td>\n",
              "    </tr>\n",
              "    <tr>\n",
              "      <th>4</th>\n",
              "      <td>4;DHEERAJ;20EG107150;20eg107150@anurag.edu.in;...</td>\n",
              "    </tr>\n",
              "  </tbody>\n",
              "</table>\n",
              "</div>"
            ],
            "text/plain": [
              "                ;NAME ;ROLL NO ;MAIL ID;BRANCH;MARKS\n",
              "0  0;B ADITYA;20EG107104;20eg107104@anurag.edu.in...\n",
              "1  1;D R DINESH KUMAR;20EG507101;20eg507101@anura...\n",
              "2  2;SUJEETH REDDY;20EG107145;20eg107145@anurag.e...\n",
              "3  3;NAGARJUN;20EG107133;20eg107133@anurag.edu.in...\n",
              "4  4;DHEERAJ;20EG107150;20eg107150@anurag.edu.in;..."
            ]
          },
          "execution_count": 13,
          "metadata": {},
          "output_type": "execute_result"
        }
      ],
      "source": [
        "pd.read_csv(\"DATA\")"
      ]
    },
    {
      "cell_type": "code",
      "execution_count": null,
      "id": "828f8758",
      "metadata": {
        "id": "828f8758",
        "outputId": "05ac4808-43de-4abb-8e10-8787236c22f6"
      },
      "outputs": [
        {
          "data": {
            "text/html": [
              "<div>\n",
              "<style scoped>\n",
              "    .dataframe tbody tr th:only-of-type {\n",
              "        vertical-align: middle;\n",
              "    }\n",
              "\n",
              "    .dataframe tbody tr th {\n",
              "        vertical-align: top;\n",
              "    }\n",
              "\n",
              "    .dataframe thead th {\n",
              "        text-align: right;\n",
              "    }\n",
              "</style>\n",
              "<table border=\"1\" class=\"dataframe\">\n",
              "  <thead>\n",
              "    <tr style=\"text-align: right;\">\n",
              "      <th></th>\n",
              "      <th>NAME</th>\n",
              "      <th>ROLL NO</th>\n",
              "      <th>MAIL ID</th>\n",
              "      <th>BRANCH</th>\n",
              "      <th>MARKS</th>\n",
              "    </tr>\n",
              "  </thead>\n",
              "  <tbody>\n",
              "    <tr>\n",
              "      <th>0</th>\n",
              "      <td>B ADITYA</td>\n",
              "      <td>20EG107104</td>\n",
              "      <td>20eg107104@anurag.edu.in</td>\n",
              "      <td>AIML</td>\n",
              "      <td>67</td>\n",
              "    </tr>\n",
              "    <tr>\n",
              "      <th>1</th>\n",
              "      <td>D R DINESH KUMAR</td>\n",
              "      <td>20EG507101</td>\n",
              "      <td>20eg507101@anurag.edu.in</td>\n",
              "      <td>AIML</td>\n",
              "      <td>78</td>\n",
              "    </tr>\n",
              "    <tr>\n",
              "      <th>2</th>\n",
              "      <td>SUJEETH REDDY</td>\n",
              "      <td>20EG107145</td>\n",
              "      <td>20eg107145@anurag.edu.in</td>\n",
              "      <td>AIML</td>\n",
              "      <td>75</td>\n",
              "    </tr>\n",
              "    <tr>\n",
              "      <th>3</th>\n",
              "      <td>NAGARJUN</td>\n",
              "      <td>20EG107133</td>\n",
              "      <td>20eg107133@anurag.edu.in</td>\n",
              "      <td>AIML</td>\n",
              "      <td>98</td>\n",
              "    </tr>\n",
              "    <tr>\n",
              "      <th>4</th>\n",
              "      <td>DHEERAJ</td>\n",
              "      <td>20EG107150</td>\n",
              "      <td>20eg107150@anurag.edu.in</td>\n",
              "      <td>AIML</td>\n",
              "      <td>87</td>\n",
              "    </tr>\n",
              "  </tbody>\n",
              "</table>\n",
              "</div>"
            ],
            "text/plain": [
              "              NAME     ROLL NO                    MAIL ID BRANCH  MARKS\n",
              "0          B ADITYA  20EG107104  20eg107104@anurag.edu.in   AIML     67\n",
              "1  D R DINESH KUMAR  20EG507101  20eg507101@anurag.edu.in   AIML     78\n",
              "2     SUJEETH REDDY  20EG107145  20eg107145@anurag.edu.in   AIML     75\n",
              "3          NAGARJUN  20EG107133  20eg107133@anurag.edu.in   AIML     98\n",
              "4           DHEERAJ  20EG107150  20eg107150@anurag.edu.in   AIML     87"
            ]
          },
          "execution_count": 14,
          "metadata": {},
          "output_type": "execute_result"
        }
      ],
      "source": [
        "df"
      ]
    },
    {
      "cell_type": "code",
      "execution_count": null,
      "id": "0c6dfb0a",
      "metadata": {
        "id": "0c6dfb0a"
      },
      "outputs": [],
      "source": [
        ""
      ]
    }
  ],
  "metadata": {
    "kernelspec": {
      "display_name": "Python 3",
      "language": "python",
      "name": "python3"
    },
    "language_info": {
      "codemirror_mode": {
        "name": "ipython",
        "version": 3
      },
      "file_extension": ".py",
      "mimetype": "text/x-python",
      "name": "python",
      "nbconvert_exporter": "python",
      "pygments_lexer": "ipython3",
      "version": "3.8.8"
    },
    "colab": {
      "name": "20EG107104.ipynb",
      "provenance": []
    }
  },
  "nbformat": 4,
  "nbformat_minor": 5
}