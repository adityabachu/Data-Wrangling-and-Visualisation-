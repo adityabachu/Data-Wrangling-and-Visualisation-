{
  "cells": [
    {
      "cell_type": "code",
      "execution_count": null,
      "id": "b72af15c",
      "metadata": {
        "id": "b72af15c",
        "outputId": "42991d4f-3b68-4aeb-ff2e-d0ec0af6b4cc"
      },
      "outputs": [
        {
          "data": {
            "text/plain": [
              "0      red\n",
              "1    green\n",
              "2     blue\n",
              "3    white\n",
              "4    black\n",
              "dtype: object"
            ]
          },
          "execution_count": 3,
          "metadata": {},
          "output_type": "execute_result"
        }
      ],
      "source": [
        "import pandas as pd\n",
        "srs = pd.Series(['red','green','blue','white','black'])\n",
        "srs"
      ]
    },
    {
      "cell_type": "markdown",
      "id": "4c68df71",
      "metadata": {
        "id": "4c68df71"
      },
      "source": [
        "Here 0,1,2,3,4 are the index values"
      ]
    },
    {
      "cell_type": "markdown",
      "id": "731db0b8",
      "metadata": {
        "id": "731db0b8"
      },
      "source": [
        "Example for accessing values in a series using Index"
      ]
    },
    {
      "cell_type": "code",
      "execution_count": null,
      "id": "701eb255",
      "metadata": {
        "id": "701eb255",
        "outputId": "a40aa07f-1aba-4ed6-d9b1-f584174bb088"
      },
      "outputs": [
        {
          "data": {
            "text/plain": [
              "'red'"
            ]
          },
          "execution_count": 4,
          "metadata": {},
          "output_type": "execute_result"
        }
      ],
      "source": [
        "srs[0]"
      ]
    },
    {
      "cell_type": "code",
      "execution_count": null,
      "id": "0f9037ef",
      "metadata": {
        "id": "0f9037ef",
        "outputId": "731caa25-be72-47ce-bee4-20b0eea5c1b7"
      },
      "outputs": [
        {
          "data": {
            "text/plain": [
              "'white'"
            ]
          },
          "execution_count": 5,
          "metadata": {},
          "output_type": "execute_result"
        }
      ],
      "source": [
        "srs[3]"
      ]
    },
    {
      "cell_type": "markdown",
      "id": "db5cff32",
      "metadata": {
        "id": "db5cff32"
      },
      "source": [
        "Unlike Series DataFrame is 2-Dimensional"
      ]
    },
    {
      "cell_type": "code",
      "execution_count": null,
      "id": "7e0d80b2",
      "metadata": {
        "id": "7e0d80b2",
        "outputId": "5765674b-8a14-40e3-f12c-cf5191e251be"
      },
      "outputs": [
        {
          "data": {
            "text/html": [
              "<div>\n",
              "<style scoped>\n",
              "    .dataframe tbody tr th:only-of-type {\n",
              "        vertical-align: middle;\n",
              "    }\n",
              "\n",
              "    .dataframe tbody tr th {\n",
              "        vertical-align: top;\n",
              "    }\n",
              "\n",
              "    .dataframe thead th {\n",
              "        text-align: right;\n",
              "    }\n",
              "</style>\n",
              "<table border=\"1\" class=\"dataframe\">\n",
              "  <thead>\n",
              "    <tr style=\"text-align: right;\">\n",
              "      <th></th>\n",
              "      <th>a</th>\n",
              "      <th>b</th>\n",
              "    </tr>\n",
              "  </thead>\n",
              "  <tbody>\n",
              "    <tr>\n",
              "      <th>0</th>\n",
              "      <td>10</td>\n",
              "      <td>red</td>\n",
              "    </tr>\n",
              "    <tr>\n",
              "      <th>1</th>\n",
              "      <td>20</td>\n",
              "      <td>green</td>\n",
              "    </tr>\n",
              "    <tr>\n",
              "      <th>2</th>\n",
              "      <td>30</td>\n",
              "      <td>blue</td>\n",
              "    </tr>\n",
              "    <tr>\n",
              "      <th>3</th>\n",
              "      <td>40</td>\n",
              "      <td>white</td>\n",
              "    </tr>\n",
              "    <tr>\n",
              "      <th>4</th>\n",
              "      <td>50</td>\n",
              "      <td>black</td>\n",
              "    </tr>\n",
              "  </tbody>\n",
              "</table>\n",
              "</div>"
            ],
            "text/plain": [
              "    a      b\n",
              "0  10    red\n",
              "1  20  green\n",
              "2  30   blue\n",
              "3  40  white\n",
              "4  50  black"
            ]
          },
          "execution_count": 7,
          "metadata": {},
          "output_type": "execute_result"
        }
      ],
      "source": [
        "srs_a = pd.Series([10,20,30,40,50])\n",
        "srs_b = pd.Series(['red','green','blue','white','black'])\n",
        "df = pd.DataFrame({'a' : srs_a, 'b' : srs_b})\n",
        "df"
      ]
    },
    {
      "cell_type": "markdown",
      "id": "b2336be3",
      "metadata": {
        "id": "b2336be3"
      },
      "source": [
        "To access an element within DataFrame we need to provide two indexes (one for row and another for column)"
      ]
    },
    {
      "cell_type": "code",
      "execution_count": null,
      "id": "b730e585",
      "metadata": {
        "id": "b730e585",
        "outputId": "4a550fc3-7ca1-48fc-dbdc-4dd250d51ceb"
      },
      "outputs": [
        {
          "data": {
            "text/plain": [
              "'blue'"
            ]
          },
          "execution_count": 9,
          "metadata": {},
          "output_type": "execute_result"
        }
      ],
      "source": [
        "df.loc[2,'b']"
      ]
    },
    {
      "cell_type": "code",
      "execution_count": null,
      "id": "0e12b342",
      "metadata": {
        "id": "0e12b342",
        "outputId": "22744a9c-db6e-497c-c1cc-b28e175968db"
      },
      "outputs": [
        {
          "data": {
            "text/plain": [
              "40"
            ]
          },
          "execution_count": 10,
          "metadata": {},
          "output_type": "execute_result"
        }
      ],
      "source": [
        "df.loc[3,'a']"
      ]
    },
    {
      "cell_type": "code",
      "execution_count": null,
      "id": "0fbce048",
      "metadata": {
        "id": "0fbce048"
      },
      "outputs": [],
      "source": [
        "import numpy as np\n",
        "srs = pd.Series([1,3,np.nan,4,np.nan])"
      ]
    },
    {
      "cell_type": "code",
      "execution_count": null,
      "id": "f9b591d3",
      "metadata": {
        "id": "f9b591d3",
        "outputId": "2e982ae5-5675-4d7b-f1da-8d45783013a5"
      },
      "outputs": [
        {
          "data": {
            "text/plain": [
              "0    1.0\n",
              "1    3.0\n",
              "3    4.0\n",
              "dtype: float64"
            ]
          },
          "execution_count": 14,
          "metadata": {},
          "output_type": "execute_result"
        }
      ],
      "source": [
        "srs.dropna()"
      ]
    },
    {
      "cell_type": "markdown",
      "id": "c069842e",
      "metadata": {
        "id": "c069842e"
      },
      "source": [
        "As Series axis=0 dropna() will work same for dropna() and dropna(axis=0)"
      ]
    },
    {
      "cell_type": "code",
      "execution_count": null,
      "id": "8bf6544c",
      "metadata": {
        "id": "8bf6544c",
        "outputId": "9eb9536b-c811-481b-f9cf-828171632401"
      },
      "outputs": [
        {
          "data": {
            "text/plain": [
              "0    1.0\n",
              "1    3.0\n",
              "3    4.0\n",
              "dtype: float64"
            ]
          },
          "execution_count": 15,
          "metadata": {},
          "output_type": "execute_result"
        }
      ],
      "source": [
        "srs.dropna(axis=0)"
      ]
    },
    {
      "cell_type": "markdown",
      "id": "98426ea3",
      "metadata": {
        "id": "98426ea3"
      },
      "source": [
        "Here dtype refers to datatype In this case its float64"
      ]
    },
    {
      "cell_type": "markdown",
      "id": "ab67e996",
      "metadata": {
        "id": "ab67e996"
      },
      "source": [
        "we can change the datatype by using astype()"
      ]
    },
    {
      "cell_type": "code",
      "execution_count": null,
      "id": "6e396040",
      "metadata": {
        "id": "6e396040",
        "outputId": "7e14537d-6485-4066-b77b-7328425bb011"
      },
      "outputs": [
        {
          "data": {
            "text/plain": [
              "0    10\n",
              "1    20\n",
              "2    30\n",
              "3    40\n",
              "4    50\n",
              "Name: a, dtype: int32"
            ]
          },
          "execution_count": 17,
          "metadata": {},
          "output_type": "execute_result"
        }
      ],
      "source": [
        "df['a'].astype(int)"
      ]
    },
    {
      "cell_type": "markdown",
      "id": "20541815",
      "metadata": {
        "id": "20541815"
      },
      "source": [
        "Now as we see the dtype is changed to int32 (32 refers to the memory allocated to hold that character)"
      ]
    },
    {
      "cell_type": "code",
      "execution_count": null,
      "id": "46f4145c",
      "metadata": {
        "id": "46f4145c",
        "outputId": "bd48fc9b-0ad9-47db-9964-e4d4464ab9cb"
      },
      "outputs": [
        {
          "data": {
            "text/plain": [
              "a                       150\n",
              "b    redgreenbluewhiteblack\n",
              "dtype: object"
            ]
          },
          "execution_count": 18,
          "metadata": {},
          "output_type": "execute_result"
        }
      ],
      "source": [
        "df.sum(axis=0)"
      ]
    },
    {
      "cell_type": "markdown",
      "id": "ef917da1",
      "metadata": {
        "id": "ef917da1"
      },
      "source": [
        "axis=0 determines along which direction the operation is performed"
      ]
    },
    {
      "cell_type": "markdown",
      "id": "3b44014e",
      "metadata": {
        "id": "3b44014e"
      },
      "source": [
        "axis=1 produces a sum for each row"
      ]
    },
    {
      "cell_type": "code",
      "execution_count": null,
      "id": "9a01b491",
      "metadata": {
        "id": "9a01b491",
        "outputId": "3d3a1b53-b66e-45cd-9c4c-b54385fb5036"
      },
      "outputs": [
        {
          "data": {
            "text/plain": [
              "0    10\n",
              "1    20\n",
              "2    30\n",
              "3    40\n",
              "4    50\n",
              "dtype: int64"
            ]
          },
          "execution_count": 19,
          "metadata": {},
          "output_type": "execute_result"
        }
      ],
      "source": [
        "df.sum(axis=1)"
      ]
    },
    {
      "cell_type": "markdown",
      "id": "8c70f5e4",
      "metadata": {
        "id": "8c70f5e4"
      },
      "source": [
        "If numbers seems confusing we can use labels like 'index' and 'rows' for axis=0 and 'columns' for axis=1"
      ]
    },
    {
      "cell_type": "code",
      "execution_count": null,
      "id": "626c7aa5",
      "metadata": {
        "id": "626c7aa5",
        "outputId": "ca93d3d9-ca71-4229-d955-be12055e853f"
      },
      "outputs": [
        {
          "data": {
            "text/plain": [
              "a                       150\n",
              "b    redgreenbluewhiteblack\n",
              "dtype: object"
            ]
          },
          "execution_count": 20,
          "metadata": {},
          "output_type": "execute_result"
        }
      ],
      "source": [
        "df.sum(axis='index')"
      ]
    },
    {
      "cell_type": "code",
      "execution_count": null,
      "id": "5a2785ac",
      "metadata": {
        "id": "5a2785ac",
        "outputId": "8fbbaf0a-3b1a-4411-fa1c-aa341fe60fe5"
      },
      "outputs": [
        {
          "data": {
            "text/plain": [
              "a                       150\n",
              "b    redgreenbluewhiteblack\n",
              "dtype: object"
            ]
          },
          "execution_count": 21,
          "metadata": {},
          "output_type": "execute_result"
        }
      ],
      "source": [
        "df.sum(axis='rows')"
      ]
    },
    {
      "cell_type": "code",
      "execution_count": null,
      "id": "023e661d",
      "metadata": {
        "id": "023e661d",
        "outputId": "b0e7c4a8-92f1-461e-844d-7308042c0095"
      },
      "outputs": [
        {
          "data": {
            "text/plain": [
              "0    10\n",
              "1    20\n",
              "2    30\n",
              "3    40\n",
              "4    50\n",
              "dtype: int64"
            ]
          },
          "execution_count": 22,
          "metadata": {},
          "output_type": "execute_result"
        }
      ],
      "source": [
        "df.sum(axis='columns')"
      ]
    },
    {
      "cell_type": "markdown",
      "id": "801c7f9e",
      "metadata": {
        "id": "801c7f9e"
      },
      "source": [
        "Dropping NaN values"
      ]
    },
    {
      "cell_type": "code",
      "execution_count": null,
      "id": "6be62e56",
      "metadata": {
        "id": "6be62e56",
        "outputId": "a62f8e4d-0b66-46b8-aeb0-fa3c55fdb04e"
      },
      "outputs": [
        {
          "data": {
            "text/html": [
              "<div>\n",
              "<style scoped>\n",
              "    .dataframe tbody tr th:only-of-type {\n",
              "        vertical-align: middle;\n",
              "    }\n",
              "\n",
              "    .dataframe tbody tr th {\n",
              "        vertical-align: top;\n",
              "    }\n",
              "\n",
              "    .dataframe thead th {\n",
              "        text-align: right;\n",
              "    }\n",
              "</style>\n",
              "<table border=\"1\" class=\"dataframe\">\n",
              "  <thead>\n",
              "    <tr style=\"text-align: right;\">\n",
              "      <th></th>\n",
              "      <th>a</th>\n",
              "      <th>b</th>\n",
              "      <th>c</th>\n",
              "    </tr>\n",
              "  </thead>\n",
              "  <tbody>\n",
              "    <tr>\n",
              "      <th>0</th>\n",
              "      <td>2.0</td>\n",
              "      <td>NaN</td>\n",
              "      <td>-3</td>\n",
              "    </tr>\n",
              "    <tr>\n",
              "      <th>1</th>\n",
              "      <td>NaN</td>\n",
              "      <td>32.0</td>\n",
              "      <td>5</td>\n",
              "    </tr>\n",
              "    <tr>\n",
              "      <th>2</th>\n",
              "      <td>8.0</td>\n",
              "      <td>15.0</td>\n",
              "      <td>22</td>\n",
              "    </tr>\n",
              "    <tr>\n",
              "      <th>3</th>\n",
              "      <td>3.0</td>\n",
              "      <td>7.0</td>\n",
              "      <td>19</td>\n",
              "    </tr>\n",
              "  </tbody>\n",
              "</table>\n",
              "</div>"
            ],
            "text/plain": [
              "     a     b   c\n",
              "0  2.0   NaN  -3\n",
              "1  NaN  32.0   5\n",
              "2  8.0  15.0  22\n",
              "3  3.0   7.0  19"
            ]
          },
          "execution_count": 23,
          "metadata": {},
          "output_type": "execute_result"
        }
      ],
      "source": [
        "df = pd.DataFrame({'a':[2,np.nan,8,3],'b':[np.nan, 32, 15, 7], 'c': [-3, 5, 22, 19]})\n",
        "df"
      ]
    },
    {
      "cell_type": "code",
      "execution_count": null,
      "id": "6d4ee1a0",
      "metadata": {
        "id": "6d4ee1a0",
        "outputId": "6c0b713f-2ea1-4719-c711-cb1054047312"
      },
      "outputs": [
        {
          "data": {
            "text/html": [
              "<div>\n",
              "<style scoped>\n",
              "    .dataframe tbody tr th:only-of-type {\n",
              "        vertical-align: middle;\n",
              "    }\n",
              "\n",
              "    .dataframe tbody tr th {\n",
              "        vertical-align: top;\n",
              "    }\n",
              "\n",
              "    .dataframe thead th {\n",
              "        text-align: right;\n",
              "    }\n",
              "</style>\n",
              "<table border=\"1\" class=\"dataframe\">\n",
              "  <thead>\n",
              "    <tr style=\"text-align: right;\">\n",
              "      <th></th>\n",
              "      <th>a</th>\n",
              "      <th>b</th>\n",
              "      <th>c</th>\n",
              "    </tr>\n",
              "  </thead>\n",
              "  <tbody>\n",
              "    <tr>\n",
              "      <th>2</th>\n",
              "      <td>8.0</td>\n",
              "      <td>15.0</td>\n",
              "      <td>22</td>\n",
              "    </tr>\n",
              "    <tr>\n",
              "      <th>3</th>\n",
              "      <td>3.0</td>\n",
              "      <td>7.0</td>\n",
              "      <td>19</td>\n",
              "    </tr>\n",
              "  </tbody>\n",
              "</table>\n",
              "</div>"
            ],
            "text/plain": [
              "     a     b   c\n",
              "2  8.0  15.0  22\n",
              "3  3.0   7.0  19"
            ]
          },
          "execution_count": 24,
          "metadata": {},
          "output_type": "execute_result"
        }
      ],
      "source": [
        "df.dropna(axis=0)"
      ]
    },
    {
      "cell_type": "code",
      "execution_count": null,
      "id": "3d822317",
      "metadata": {
        "id": "3d822317",
        "outputId": "fe8c2186-c4b3-4a15-dd54-2c2a2bedf4b8"
      },
      "outputs": [
        {
          "data": {
            "text/html": [
              "<div>\n",
              "<style scoped>\n",
              "    .dataframe tbody tr th:only-of-type {\n",
              "        vertical-align: middle;\n",
              "    }\n",
              "\n",
              "    .dataframe tbody tr th {\n",
              "        vertical-align: top;\n",
              "    }\n",
              "\n",
              "    .dataframe thead th {\n",
              "        text-align: right;\n",
              "    }\n",
              "</style>\n",
              "<table border=\"1\" class=\"dataframe\">\n",
              "  <thead>\n",
              "    <tr style=\"text-align: right;\">\n",
              "      <th></th>\n",
              "      <th>c</th>\n",
              "    </tr>\n",
              "  </thead>\n",
              "  <tbody>\n",
              "    <tr>\n",
              "      <th>0</th>\n",
              "      <td>-3</td>\n",
              "    </tr>\n",
              "    <tr>\n",
              "      <th>1</th>\n",
              "      <td>5</td>\n",
              "    </tr>\n",
              "    <tr>\n",
              "      <th>2</th>\n",
              "      <td>22</td>\n",
              "    </tr>\n",
              "    <tr>\n",
              "      <th>3</th>\n",
              "      <td>19</td>\n",
              "    </tr>\n",
              "  </tbody>\n",
              "</table>\n",
              "</div>"
            ],
            "text/plain": [
              "    c\n",
              "0  -3\n",
              "1   5\n",
              "2  22\n",
              "3  19"
            ]
          },
          "execution_count": 25,
          "metadata": {},
          "output_type": "execute_result"
        }
      ],
      "source": [
        "df.dropna(axis=1)"
      ]
    },
    {
      "cell_type": "markdown",
      "id": "a3bcc4ec",
      "metadata": {
        "id": "a3bcc4ec"
      },
      "source": [
        "Concatenation"
      ]
    },
    {
      "cell_type": "code",
      "execution_count": null,
      "id": "15415c9f",
      "metadata": {
        "id": "15415c9f"
      },
      "outputs": [],
      "source": [
        "df1 = pd.DataFrame({'a':[1,3,6,8,9], 'b': ['red','green','blue','white','black']})"
      ]
    },
    {
      "cell_type": "code",
      "execution_count": null,
      "id": "0e0b7b7d",
      "metadata": {
        "id": "0e0b7b7d"
      },
      "outputs": [],
      "source": [
        "df2 = pd.DataFrame({'a':[0,2,4,5,7], 'b': ['jun','jul','aug','sep','oct']})"
      ]
    },
    {
      "cell_type": "code",
      "execution_count": null,
      "id": "a242b164",
      "metadata": {
        "id": "a242b164",
        "outputId": "bc224b2d-bed5-45ff-bb1e-b53f2fe737c4"
      },
      "outputs": [
        {
          "data": {
            "text/html": [
              "<div>\n",
              "<style scoped>\n",
              "    .dataframe tbody tr th:only-of-type {\n",
              "        vertical-align: middle;\n",
              "    }\n",
              "\n",
              "    .dataframe tbody tr th {\n",
              "        vertical-align: top;\n",
              "    }\n",
              "\n",
              "    .dataframe thead th {\n",
              "        text-align: right;\n",
              "    }\n",
              "</style>\n",
              "<table border=\"1\" class=\"dataframe\">\n",
              "  <thead>\n",
              "    <tr style=\"text-align: right;\">\n",
              "      <th></th>\n",
              "      <th>a</th>\n",
              "      <th>b</th>\n",
              "    </tr>\n",
              "  </thead>\n",
              "  <tbody>\n",
              "    <tr>\n",
              "      <th>0</th>\n",
              "      <td>1</td>\n",
              "      <td>red</td>\n",
              "    </tr>\n",
              "    <tr>\n",
              "      <th>1</th>\n",
              "      <td>3</td>\n",
              "      <td>green</td>\n",
              "    </tr>\n",
              "    <tr>\n",
              "      <th>2</th>\n",
              "      <td>6</td>\n",
              "      <td>blue</td>\n",
              "    </tr>\n",
              "    <tr>\n",
              "      <th>3</th>\n",
              "      <td>8</td>\n",
              "      <td>white</td>\n",
              "    </tr>\n",
              "    <tr>\n",
              "      <th>4</th>\n",
              "      <td>9</td>\n",
              "      <td>black</td>\n",
              "    </tr>\n",
              "    <tr>\n",
              "      <th>0</th>\n",
              "      <td>0</td>\n",
              "      <td>jun</td>\n",
              "    </tr>\n",
              "    <tr>\n",
              "      <th>1</th>\n",
              "      <td>2</td>\n",
              "      <td>jul</td>\n",
              "    </tr>\n",
              "    <tr>\n",
              "      <th>2</th>\n",
              "      <td>4</td>\n",
              "      <td>aug</td>\n",
              "    </tr>\n",
              "    <tr>\n",
              "      <th>3</th>\n",
              "      <td>5</td>\n",
              "      <td>sep</td>\n",
              "    </tr>\n",
              "    <tr>\n",
              "      <th>4</th>\n",
              "      <td>7</td>\n",
              "      <td>oct</td>\n",
              "    </tr>\n",
              "  </tbody>\n",
              "</table>\n",
              "</div>"
            ],
            "text/plain": [
              "   a      b\n",
              "0  1    red\n",
              "1  3  green\n",
              "2  6   blue\n",
              "3  8  white\n",
              "4  9  black\n",
              "0  0    jun\n",
              "1  2    jul\n",
              "2  4    aug\n",
              "3  5    sep\n",
              "4  7    oct"
            ]
          },
          "execution_count": 28,
          "metadata": {},
          "output_type": "execute_result"
        }
      ],
      "source": [
        "pd.concat([df1,df2],axis=0)"
      ]
    },
    {
      "cell_type": "code",
      "execution_count": null,
      "id": "4b6b2780",
      "metadata": {
        "id": "4b6b2780",
        "outputId": "435128d4-7c98-4ff6-8ee3-72803df3611b"
      },
      "outputs": [
        {
          "data": {
            "text/html": [
              "<div>\n",
              "<style scoped>\n",
              "    .dataframe tbody tr th:only-of-type {\n",
              "        vertical-align: middle;\n",
              "    }\n",
              "\n",
              "    .dataframe tbody tr th {\n",
              "        vertical-align: top;\n",
              "    }\n",
              "\n",
              "    .dataframe thead th {\n",
              "        text-align: right;\n",
              "    }\n",
              "</style>\n",
              "<table border=\"1\" class=\"dataframe\">\n",
              "  <thead>\n",
              "    <tr style=\"text-align: right;\">\n",
              "      <th></th>\n",
              "      <th>a</th>\n",
              "      <th>b</th>\n",
              "      <th>a</th>\n",
              "      <th>b</th>\n",
              "    </tr>\n",
              "  </thead>\n",
              "  <tbody>\n",
              "    <tr>\n",
              "      <th>0</th>\n",
              "      <td>1</td>\n",
              "      <td>red</td>\n",
              "      <td>0</td>\n",
              "      <td>jun</td>\n",
              "    </tr>\n",
              "    <tr>\n",
              "      <th>1</th>\n",
              "      <td>3</td>\n",
              "      <td>green</td>\n",
              "      <td>2</td>\n",
              "      <td>jul</td>\n",
              "    </tr>\n",
              "    <tr>\n",
              "      <th>2</th>\n",
              "      <td>6</td>\n",
              "      <td>blue</td>\n",
              "      <td>4</td>\n",
              "      <td>aug</td>\n",
              "    </tr>\n",
              "    <tr>\n",
              "      <th>3</th>\n",
              "      <td>8</td>\n",
              "      <td>white</td>\n",
              "      <td>5</td>\n",
              "      <td>sep</td>\n",
              "    </tr>\n",
              "    <tr>\n",
              "      <th>4</th>\n",
              "      <td>9</td>\n",
              "      <td>black</td>\n",
              "      <td>7</td>\n",
              "      <td>oct</td>\n",
              "    </tr>\n",
              "  </tbody>\n",
              "</table>\n",
              "</div>"
            ],
            "text/plain": [
              "   a      b  a    b\n",
              "0  1    red  0  jun\n",
              "1  3  green  2  jul\n",
              "2  6   blue  4  aug\n",
              "3  8  white  5  sep\n",
              "4  9  black  7  oct"
            ]
          },
          "execution_count": 29,
          "metadata": {},
          "output_type": "execute_result"
        }
      ],
      "source": [
        "pd.concat([df1,df2],axis=1)"
      ]
    },
    {
      "cell_type": "code",
      "execution_count": null,
      "id": "4dde97e4",
      "metadata": {
        "id": "4dde97e4"
      },
      "outputs": [],
      "source": [
        ""
      ]
    }
  ],
  "metadata": {
    "kernelspec": {
      "display_name": "Python 3",
      "language": "python",
      "name": "python3"
    },
    "language_info": {
      "codemirror_mode": {
        "name": "ipython",
        "version": 3
      },
      "file_extension": ".py",
      "mimetype": "text/x-python",
      "name": "python",
      "nbconvert_exporter": "python",
      "pygments_lexer": "ipython3",
      "version": "3.8.8"
    },
    "colab": {
      "name": "Pandas DataFrame.ipynb",
      "provenance": []
    }
  },
  "nbformat": 4,
  "nbformat_minor": 5
}