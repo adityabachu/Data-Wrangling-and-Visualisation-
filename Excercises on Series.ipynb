{
  "cells": [
    {
      "cell_type": "code",
      "execution_count": null,
      "id": "bf4e329c",
      "metadata": {
        "id": "bf4e329c"
      },
      "outputs": [],
      "source": [
        "import pandas as pd"
      ]
    },
    {
      "cell_type": "code",
      "execution_count": null,
      "id": "3e07dab0",
      "metadata": {
        "id": "3e07dab0",
        "outputId": "a0a7da31-1ca6-48b3-ca3d-4f16b857bba7"
      },
      "outputs": [
        {
          "name": "stdout",
          "output_type": "stream",
          "text": [
            "Series([], dtype: float64)\n"
          ]
        },
        {
          "name": "stderr",
          "output_type": "stream",
          "text": [
            "C:\\Users\\Admin\\AppData\\Local\\Temp/ipykernel_14788/2928049233.py:1: DeprecationWarning: The default dtype for empty Series will be 'object' instead of 'float64' in a future version. Specify a dtype explicitly to silence this warning.\n",
            "  S1 = pd.Series( )\n"
          ]
        }
      ],
      "source": [
        "S1 = pd.Series( )\n",
        "print(S1)"
      ]
    },
    {
      "cell_type": "code",
      "execution_count": null,
      "id": "b543f3c0",
      "metadata": {
        "id": "b543f3c0",
        "outputId": "884e0196-2eaa-46eb-8316-149b0379ae8a"
      },
      "outputs": [
        {
          "name": "stdout",
          "output_type": "stream",
          "text": [
            "0     2\n",
            "1     4\n",
            "2     6\n",
            "3     8\n",
            "4    10\n",
            "dtype: int64\n"
          ]
        }
      ],
      "source": [
        "S1 = pd.Series([2, 4, 6, 8, 10])\n",
        "print(S1)"
      ]
    },
    {
      "cell_type": "code",
      "execution_count": null,
      "id": "25c3e376",
      "metadata": {
        "id": "25c3e376",
        "outputId": "eeaf1a60-0e1a-4b46-ee68-74f472137d5c"
      },
      "outputs": [
        {
          "name": "stdout",
          "output_type": "stream",
          "text": [
            "0    a\n",
            "1    e\n",
            "2    i\n",
            "3    o\n",
            "4    u\n",
            "dtype: object\n"
          ]
        }
      ],
      "source": [
        "\n",
        "S1 = pd.Series([\"a\",\"e\",\"i\",\"o\",\"u\"])\n",
        "print(S1)"
      ]
    },
    {
      "cell_type": "code",
      "execution_count": null,
      "id": "718cfc5c",
      "metadata": {
        "id": "718cfc5c",
        "outputId": "627308e8-37ba-4ca1-ece5-ef53c4db7375"
      },
      "outputs": [
        {
          "name": "stdout",
          "output_type": "stream",
          "text": [
            "0    11\n",
            "1    22\n",
            "2    33\n",
            "3    44\n",
            "4    55\n",
            "dtype: int64\n"
          ]
        }
      ],
      "source": [
        "A = (11, 22, 33, 44, 55)\n",
        "S1 = pd.Series(A)\n",
        "print(S1)"
      ]
    },
    {
      "cell_type": "code",
      "execution_count": null,
      "id": "935dcbaa",
      "metadata": {
        "id": "935dcbaa",
        "outputId": "a6118955-73c0-4a60-e742-056918d4d53e"
      },
      "outputs": [
        {
          "name": "stdout",
          "output_type": "stream",
          "text": [
            "Enter your name  : dinesh\n",
            "0    d\n",
            "1    i\n",
            "2    n\n",
            "3    e\n",
            "4    s\n",
            "5    h\n",
            "dtype: object\n"
          ]
        }
      ],
      "source": [
        "A = input(\"Enter your name  : \")\n",
        "S1 = pd.Series(list(A))\n",
        "print(S1)"
      ]
    },
    {
      "cell_type": "code",
      "execution_count": null,
      "id": "d7a6fd98",
      "metadata": {
        "id": "d7a6fd98",
        "outputId": "e2345047-d5ff-410e-bd20-2450b7e04ffd"
      },
      "outputs": [
        {
          "name": "stdout",
          "output_type": "stream",
          "text": [
            "Jan    31\n",
            "Feb    28\n",
            "Mar    31\n",
            "dtype: int64\n"
          ]
        }
      ],
      "source": [
        "D = {\"Jan\" : 31, \"Feb\" : 28, \"Mar\" : 31}\n",
        "S1 = pd.Series(D)\n",
        "print(S1)\n"
      ]
    },
    {
      "cell_type": "code",
      "execution_count": null,
      "id": "734d91d6",
      "metadata": {
        "id": "734d91d6",
        "outputId": "c26c9fa6-8645-45fe-fdbf-a2d7fb5bbacb"
      },
      "outputs": [
        {
          "name": "stdout",
          "output_type": "stream",
          "text": [
            "6     140\n",
            "7     125\n",
            "8     100\n",
            "9     136\n",
            "10    200\n",
            "dtype: int64\n"
          ]
        }
      ],
      "source": [
        "D = {6 : 140, 7 : 125, 8 : 100, 9 : 136, 10 : 200}\n",
        "S1 = pd.Series(D)\n",
        "print(S1)"
      ]
    },
    {
      "cell_type": "code",
      "execution_count": null,
      "id": "04f569c1",
      "metadata": {
        "id": "04f569c1",
        "outputId": "bda9153f-f8cc-4b35-aefb-90ee58b38d2b"
      },
      "outputs": [
        {
          "name": "stdout",
          "output_type": "stream",
          "text": [
            "4    12\n",
            "6    12\n",
            "8    12\n",
            "dtype: int64\n"
          ]
        }
      ],
      "source": [
        "S1 = pd.Series(12, index = [4, 6, 8])\n",
        "print(S1)"
      ]
    },
    {
      "cell_type": "code",
      "execution_count": null,
      "id": "aea3b323",
      "metadata": {
        "id": "aea3b323",
        "outputId": "ab0e39f0-a9df-4f60-ed81-41d8de721dd3"
      },
      "outputs": [
        {
          "name": "stdout",
          "output_type": "stream",
          "text": [
            "s     1\n",
            "u     4\n",
            "p     7\n",
            "e    10\n",
            "r    13\n",
            "dtype: int64\n"
          ]
        }
      ],
      "source": [
        "S1 = pd.Series(range(1,15,3), index=[x for x in \"super\"])\n",
        "print(S1)"
      ]
    },
    {
      "cell_type": "code",
      "execution_count": null,
      "id": "2490ef8a",
      "metadata": {
        "id": "2490ef8a",
        "outputId": "cab32f2e-2c0b-458c-a499-00e6bb7376eb"
      },
      "outputs": [
        {
          "name": "stdout",
          "output_type": "stream",
          "text": [
            "My        100\n",
            "name      110\n",
            "is        120\n",
            "Amit      130\n",
            "Gandhi    140\n",
            "dtype: int64\n"
          ]
        }
      ],
      "source": [
        "S1 = pd.Series(range(100, 150, 10), index=[x for x in \"My name is Amit Gandhi\".split()])\n",
        "print(S1)"
      ]
    },
    {
      "cell_type": "code",
      "execution_count": null,
      "id": "8ffd5d3f",
      "metadata": {
        "id": "8ffd5d3f",
        "outputId": "1f25a04e-c460-4061-f440-1a81a824dc77"
      },
      "outputs": [
        {
          "name": "stdout",
          "output_type": "stream",
          "text": [
            "0     1\n",
            "1     A\n",
            "2    21\n",
            "3     1\n",
            "4     A\n",
            "5    21\n",
            "dtype: object\n"
          ]
        }
      ],
      "source": [
        "L1=[1,\"A\",21]\n",
        "S1 = pd.Series(data=2*L1)\n",
        "print(S1)"
      ]
    },
    {
      "cell_type": "code",
      "execution_count": null,
      "id": "975621f6",
      "metadata": {
        "id": "975621f6",
        "outputId": "1b44dd68-3d9a-40b2-f539-a264882f8c25"
      },
      "outputs": [
        {
          "name": "stdout",
          "output_type": "stream",
          "text": [
            "0     1\n",
            "1     7\n",
            "2    21\n",
            "dtype: int32\n"
          ]
        }
      ],
      "source": [
        "import numpy as num\n",
        "arr=num.array([1,7,21])\n",
        "S1 = pd.Series(arr)\n",
        "print(S1)"
      ]
    },
    {
      "cell_type": "code",
      "execution_count": null,
      "id": "767fda09",
      "metadata": {
        "id": "767fda09",
        "outputId": "55c0b413-a6a4-4938-c7de-baa1ba2fa164"
      },
      "outputs": [
        {
          "ename": "ValueError",
          "evalue": "Length of values (3) does not match length of index (2)",
          "output_type": "error",
          "traceback": [
            "\u001b[1;31m---------------------------------------------------------------------------\u001b[0m",
            "\u001b[1;31mValueError\u001b[0m                                Traceback (most recent call last)",
            "\u001b[1;32m~\\AppData\\Local\\Temp/ipykernel_14788/3472574480.py\u001b[0m in \u001b[0;36m<module>\u001b[1;34m\u001b[0m\n\u001b[0;32m      1\u001b[0m \u001b[1;32mimport\u001b[0m \u001b[0mnumpy\u001b[0m \u001b[1;32mas\u001b[0m \u001b[0mnp\u001b[0m\u001b[1;33m\u001b[0m\u001b[1;33m\u001b[0m\u001b[0m\n\u001b[0;32m      2\u001b[0m \u001b[0marr\u001b[0m\u001b[1;33m=\u001b[0m\u001b[0mnum\u001b[0m\u001b[1;33m.\u001b[0m\u001b[0marray\u001b[0m\u001b[1;33m(\u001b[0m\u001b[1;33m[\u001b[0m\u001b[1;36m1\u001b[0m\u001b[1;33m,\u001b[0m\u001b[1;36m7\u001b[0m\u001b[1;33m,\u001b[0m\u001b[1;36m21\u001b[0m\u001b[1;33m]\u001b[0m\u001b[1;33m)\u001b[0m\u001b[1;33m\u001b[0m\u001b[1;33m\u001b[0m\u001b[0m\n\u001b[1;32m----> 3\u001b[1;33m \u001b[0mS1\u001b[0m \u001b[1;33m=\u001b[0m \u001b[0mpd\u001b[0m\u001b[1;33m.\u001b[0m\u001b[0mSeries\u001b[0m\u001b[1;33m(\u001b[0m\u001b[0marr\u001b[0m\u001b[1;33m,\u001b[0m \u001b[0mindex\u001b[0m \u001b[1;33m=\u001b[0m \u001b[1;33m(\u001b[0m\u001b[1;36m77\u001b[0m\u001b[1;33m,\u001b[0m\u001b[1;36m777\u001b[0m\u001b[1;33m)\u001b[0m\u001b[1;33m)\u001b[0m\u001b[1;33m\u001b[0m\u001b[1;33m\u001b[0m\u001b[0m\n\u001b[0m\u001b[0;32m      4\u001b[0m \u001b[0mprint\u001b[0m\u001b[1;33m(\u001b[0m\u001b[0mS1\u001b[0m\u001b[1;33m)\u001b[0m\u001b[1;33m\u001b[0m\u001b[1;33m\u001b[0m\u001b[0m\n",
            "\u001b[1;32mC:\\ProgramData\\Anaconda3\\lib\\site-packages\\pandas\\core\\series.py\u001b[0m in \u001b[0;36m__init__\u001b[1;34m(self, data, index, dtype, name, copy, fastpath)\u001b[0m\n\u001b[0;32m    428\u001b[0m                 \u001b[0mindex\u001b[0m \u001b[1;33m=\u001b[0m \u001b[0mibase\u001b[0m\u001b[1;33m.\u001b[0m\u001b[0mdefault_index\u001b[0m\u001b[1;33m(\u001b[0m\u001b[0mlen\u001b[0m\u001b[1;33m(\u001b[0m\u001b[0mdata\u001b[0m\u001b[1;33m)\u001b[0m\u001b[1;33m)\u001b[0m\u001b[1;33m\u001b[0m\u001b[1;33m\u001b[0m\u001b[0m\n\u001b[0;32m    429\u001b[0m             \u001b[1;32melif\u001b[0m \u001b[0mis_list_like\u001b[0m\u001b[1;33m(\u001b[0m\u001b[0mdata\u001b[0m\u001b[1;33m)\u001b[0m\u001b[1;33m:\u001b[0m\u001b[1;33m\u001b[0m\u001b[1;33m\u001b[0m\u001b[0m\n\u001b[1;32m--> 430\u001b[1;33m                 \u001b[0mcom\u001b[0m\u001b[1;33m.\u001b[0m\u001b[0mrequire_length_match\u001b[0m\u001b[1;33m(\u001b[0m\u001b[0mdata\u001b[0m\u001b[1;33m,\u001b[0m \u001b[0mindex\u001b[0m\u001b[1;33m)\u001b[0m\u001b[1;33m\u001b[0m\u001b[1;33m\u001b[0m\u001b[0m\n\u001b[0m\u001b[0;32m    431\u001b[0m \u001b[1;33m\u001b[0m\u001b[0m\n\u001b[0;32m    432\u001b[0m             \u001b[1;31m# create/copy the manager\u001b[0m\u001b[1;33m\u001b[0m\u001b[1;33m\u001b[0m\u001b[0m\n",
            "\u001b[1;32mC:\\ProgramData\\Anaconda3\\lib\\site-packages\\pandas\\core\\common.py\u001b[0m in \u001b[0;36mrequire_length_match\u001b[1;34m(data, index)\u001b[0m\n\u001b[0;32m    529\u001b[0m     \"\"\"\n\u001b[0;32m    530\u001b[0m     \u001b[1;32mif\u001b[0m \u001b[0mlen\u001b[0m\u001b[1;33m(\u001b[0m\u001b[0mdata\u001b[0m\u001b[1;33m)\u001b[0m \u001b[1;33m!=\u001b[0m \u001b[0mlen\u001b[0m\u001b[1;33m(\u001b[0m\u001b[0mindex\u001b[0m\u001b[1;33m)\u001b[0m\u001b[1;33m:\u001b[0m\u001b[1;33m\u001b[0m\u001b[1;33m\u001b[0m\u001b[0m\n\u001b[1;32m--> 531\u001b[1;33m         raise ValueError(\n\u001b[0m\u001b[0;32m    532\u001b[0m             \u001b[1;34m\"Length of values \"\u001b[0m\u001b[1;33m\u001b[0m\u001b[1;33m\u001b[0m\u001b[0m\n\u001b[0;32m    533\u001b[0m             \u001b[1;34mf\"({len(data)}) \"\u001b[0m\u001b[1;33m\u001b[0m\u001b[1;33m\u001b[0m\u001b[0m\n",
            "\u001b[1;31mValueError\u001b[0m: Length of values (3) does not match length of index (2)"
          ]
        }
      ],
      "source": [
        "import numpy as np\n",
        "arr=num.array([1,7,21])\n",
        "S1 = pd.Series(arr, index = (77,777))\n",
        "print(S1)"
      ]
    },
    {
      "cell_type": "code",
      "execution_count": null,
      "id": "657175e1",
      "metadata": {
        "id": "657175e1"
      },
      "outputs": [],
      "source": [
        "import numpy as np"
      ]
    },
    {
      "cell_type": "code",
      "execution_count": null,
      "id": "135c6ba2",
      "metadata": {
        "id": "135c6ba2",
        "outputId": "75590d39-6af6-4c1c-acc6-369c8acbc8f6"
      },
      "outputs": [
        {
          "name": "stdout",
          "output_type": "stream",
          "text": [
            "121\n"
          ]
        }
      ],
      "source": [
        "arr=np.array([31,47,121])\n",
        "S1 = pd.Series(arr, index = (7,77,777))\n",
        "print(S1[777])"
      ]
    },
    {
      "cell_type": "code",
      "execution_count": null,
      "id": "267ef84b",
      "metadata": {
        "id": "267ef84b",
        "outputId": "05cd7b96-7181-4ccb-efc3-3d7254dab791"
      },
      "outputs": [
        {
          "name": "stdout",
          "output_type": "stream",
          "text": [
            "31\n"
          ]
        }
      ],
      "source": [
        "arr=np.array([31,47,121])\n",
        "S1 = pd.Series(arr)\n",
        "print(S1[0])"
      ]
    },
    {
      "cell_type": "code",
      "execution_count": null,
      "id": "be8e3d01",
      "metadata": {
        "id": "be8e3d01",
        "outputId": "86961e84-8e1f-4fe4-a02c-3337b752ce08"
      },
      "outputs": [
        {
          "name": "stdout",
          "output_type": "stream",
          "text": [
            "M\n"
          ]
        }
      ],
      "source": [
        "L1 = list(\"My name is Ravi Kumar\")\n",
        "S1 = pd.Series(L1)\n",
        "print(S1[0])"
      ]
    },
    {
      "cell_type": "code",
      "execution_count": null,
      "id": "d6e7dcc5",
      "metadata": {
        "id": "d6e7dcc5",
        "outputId": "76f77063-1b4d-47ff-bf83-b20194466f50"
      },
      "outputs": [
        {
          "name": "stdout",
          "output_type": "stream",
          "text": [
            "My\n"
          ]
        }
      ],
      "source": [
        "L1 = list(\"My name is Ravi Kumar\".split( ))\n",
        "S1 = pd.Series(L1)\n",
        "print(S1[0])"
      ]
    },
    {
      "cell_type": "code",
      "execution_count": null,
      "id": "029805db",
      "metadata": {
        "id": "029805db",
        "outputId": "f632fd27-fe00-4d3e-831e-c9532a5e477f"
      },
      "outputs": [
        {
          "name": "stdout",
          "output_type": "stream",
          "text": [
            "0    1\n",
            "1    2\n",
            "2    3\n",
            "3    4\n",
            "4    5\n",
            "dtype: int32\n"
          ]
        }
      ],
      "source": [
        "arr = np.array([1,2,3,4,5])\n",
        "S1 = pd.Series(arr)\n",
        "print(S1)"
      ]
    },
    {
      "cell_type": "code",
      "execution_count": null,
      "id": "322169d7",
      "metadata": {
        "id": "322169d7",
        "outputId": "2f10e3a2-7f27-48c2-d33b-da7c535dac83"
      },
      "outputs": [
        {
          "name": "stdout",
          "output_type": "stream",
          "text": [
            "May    31\n",
            "May    31\n",
            "dtype: int64\n"
          ]
        }
      ],
      "source": [
        "S1 = pd.Series([31, 28, 31, 30, 31], index = [\"Jan\", \"Feb\", \"May\", \"Apr\", \"May\"])\n",
        "print(S1[\"May\"])"
      ]
    },
    {
      "cell_type": "code",
      "execution_count": null,
      "id": "6b016b92",
      "metadata": {
        "id": "6b016b92",
        "outputId": "5d178cf2-12e1-4a73-9a22-b1beea8827a0"
      },
      "outputs": [
        {
          "name": "stdout",
          "output_type": "stream",
          "text": [
            "Jan    31\n",
            "Mar    31\n",
            "May    31\n",
            "dtype: int64\n"
          ]
        }
      ],
      "source": [
        "S1 = pd.Series([31, 28, 31, 30, 31], index = [\"Jan\", \"Feb\", \"Mar\", \"Apr\", \"May\"])\n",
        "print(S1[ [0, 2, 4] ])"
      ]
    },
    {
      "cell_type": "code",
      "execution_count": null,
      "id": "6de9ead7",
      "metadata": {
        "id": "6de9ead7",
        "outputId": "9ed52ac7-3047-45ca-e7f4-3edde41f11e7"
      },
      "outputs": [
        {
          "name": "stdout",
          "output_type": "stream",
          "text": [
            "Jan    62\n",
            "Feb    56\n",
            "dtype: int64\n"
          ]
        }
      ],
      "source": [
        "S1 = pd.Series([31, 28, 31, 30, 31], index = [\"Jan\", \"Feb\", \"Mar\", \"Apr\", \"May\"])\n",
        "print(S1[0 : 2] * 2)"
      ]
    },
    {
      "cell_type": "code",
      "execution_count": null,
      "id": "6e699117",
      "metadata": {
        "id": "6e699117",
        "outputId": "730925c5-fd37-4ef1-9bc3-6878c8d49950"
      },
      "outputs": [
        {
          "name": "stdout",
          "output_type": "stream",
          "text": [
            "Jan      31\n",
            "Feb      28\n",
            "Mar      31\n",
            "Apr    7000\n",
            "May      31\n",
            "dtype: int64\n"
          ]
        }
      ],
      "source": [
        "import pandas as pd\n",
        "S1[3]=7000\n",
        "print(S1)"
      ]
    },
    {
      "cell_type": "code",
      "execution_count": null,
      "id": "7617a9d5",
      "metadata": {
        "id": "7617a9d5",
        "outputId": "bbab68b0-53e1-44bf-bb8b-c80172de99fd"
      },
      "outputs": [
        {
          "name": "stdout",
          "output_type": "stream",
          "text": [
            "0     4\n",
            "1     7\n",
            "2     9\n",
            "3    12\n",
            "dtype: int64\n",
            "0     4\n",
            "1    10\n",
            "2    14\n",
            "3    20\n",
            "dtype: int64\n",
            "0      4\n",
            "1     25\n",
            "2     49\n",
            "3    100\n",
            "dtype: int64\n",
            "0    0\n",
            "1    3\n",
            "2    5\n",
            "3    8\n",
            "dtype: int64\n",
            "0    False\n",
            "1     True\n",
            "2     True\n",
            "3     True\n",
            "dtype: bool\n"
          ]
        }
      ],
      "source": [
        "S1 = pd.Series([2, 5, 7, 10])\n",
        "print(S1 + 2)\n",
        "print(S1 * 2)\n",
        "print(S1 ** 2)\n",
        "print(S1 - 2)\n",
        "print(S1 > 2)"
      ]
    },
    {
      "cell_type": "code",
      "execution_count": null,
      "id": "e20143f1",
      "metadata": {
        "id": "e20143f1"
      },
      "outputs": [],
      "source": [
        ""
      ]
    }
  ],
  "metadata": {
    "kernelspec": {
      "display_name": "Python 3 (ipykernel)",
      "language": "python",
      "name": "python3"
    },
    "language_info": {
      "codemirror_mode": {
        "name": "ipython",
        "version": 3
      },
      "file_extension": ".py",
      "mimetype": "text/x-python",
      "name": "python",
      "nbconvert_exporter": "python",
      "pygments_lexer": "ipython3",
      "version": "3.9.7"
    },
    "colab": {
      "name": "20EG107104.ipynb",
      "provenance": []
    }
  },
  "nbformat": 4,
  "nbformat_minor": 5
}